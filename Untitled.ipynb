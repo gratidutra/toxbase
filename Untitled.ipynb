{
 "cells": [
  {
   "cell_type": "code",
   "execution_count": 3,
   "id": "0254414c-0193-419c-8df4-1fd6f7c756fe",
   "metadata": {},
   "outputs": [],
   "source": [
    "import requests"
   ]
  },
  {
   "cell_type": "code",
   "execution_count": 7,
   "id": "56561ea3-51d4-45a7-b438-aa06c4f68289",
   "metadata": {},
   "outputs": [
    {
     "data": {
      "text/plain": [
       "'<!DOCTYPE html><html><head><meta content=\"width=device-width, initial-scale=1.0\" name=\"viewport\" /><meta content=\"text/html; charset=UTF-8\" http-equiv=\"Content-Type\" /><title>T3DB</title><link rel=\"stylesheet\" media=\"all\" href=\"/assets/application-886e02be3b3d0d2c8e50abadce2260ebaa1ed1dc0f3ef88f927d72f34bb801a9.css\" data-turbolinks-track=\"true\" /><script src=\"/assets/application-f565d16f0adbcaf89fa9e3300d3659506319544c2113918c6b66b478ed8aeb8e.js\" media=\"all\" data-turbolinks-track=\"true\"></script><script type=\"text/javascript\">\\n(function(i,s,o,g,r,a,m){i[\\'GoogleAnalyticsObject\\']=r;i[r]=i[r]||function(){\\n(i[r].q=i[r].q||[]).push(arguments)},i[r].l=1*new Date();a=s.createElement(o),\\nm=s.getElementsByTagName(o)[0];a.async=1;a.src=g;m.parentNode.insertBefore(a,m)\\n})(window,document,\\'script\\',\\'//www.google-analytics.com/analytics.js\\',\\'ga\\');\\nga(\"create\",\"UA-11419770-1\",\"auto\");\\nga(\"send\",\"pageview\");\\n</script>\\n<meta name=\"csrf-param\" content=\"authenticity_token\" />\\n<meta name=\"csrf-token\" content=\"9eulw4rczANr2Wb0lTBGQM1vfRKaz4g5Co0fjONaBSJ0ooQjaKP4+Ad0bdNF1Mp3vTjeQz+xi4uxrKGc8dtmgw==\" /></head><body class=\"simple-c  home-a\" data-a=\"home\" data-c=\"simple\"><header><nav class=\"navbar navbar-custom navbar-fixed-top\"><div class=\"container-fluid\"><div class=\"navbar-header\"><button class=\"navbar-toggle\" data-target=\"#main-nav\" data-toggle=\"collapse\" type=\"button\"><span class=\"sr-only\">Toggle navigation</span><span class=\"icon-bar\"></span><span class=\"icon-bar\"></span><span class=\"icon-bar\"></span></button><a data-no-turbolink=\"true\" href=\"/\"><div class=\"navbar-icon\"></div></a><a class=\"navbar-brand\" data-no-turbolink=\"true\" href=\"/\">T3DB</a></div><div class=\"collapse navbar-collapse\" id=\"main-nav\"><ul class=\"nav navbar-nav\"><li class=\"dropdown\"><a class=\"dropdown-toggle\" data-toggle=\"dropdown\" href=\"#\">Browse <b class=\"caret\"></b></a><ul class=\"dropdown-menu dropdown-custom\"><li><a href=\"/toxins\">Browse Toxins</a></li><li><a href=\"/categories\">Browse By Category</a></li></ul></li><li class=\"dropdown\"><a class=\"dropdown-toggle\" data-toggle=\"dropdown\" href=\"#\">Search <b class=\"caret\"></b></a><ul class=\"dropdown-menu dropdown-custom\"><li><a data-no-turbolink=\"true\" href=\"/structures/search/small_molecules/structure\">ChemQuery Structure Search</a></li><li><a data-no-turbolink=\"true\" href=\"/structures/search/small_molecules/mass\">Molecular Weight Search</a></li><li><a href=\"/text_query\">Text Query</a></li><li><a href=\"/biodb/search/target_bonds/sequence\">Sequence Search</a></li><li><a href=\"/unearth/advanced/compounds\">Advanced Search</a></li><li><a href=\"/spectra/ms/search\">LC-MS Search</a></li><li><a href=\"/spectra/ms_ms/search\">LC-MS/MS Search</a></li><li><a href=\"/spectra/c_ms/search\">GC-MS Search</a></li><li><a href=\"/spectra/nmr_one_d_search/new\">NMR Search</a></li></ul></li><li><a href=\"/downloads\">Downloads</a></li><li class=\"dropdown\"><a class=\"dropdown-toggle\" data-toggle=\"dropdown\" href=\"#\">About <b class=\"caret\"></b></a><ul class=\"dropdown-menu dropdown-custom\"><li><a href=\"/about\">About T3DB</a></li><li><a href=\"/w/databases\">Other Databases</a></li><li><a href=\"/help/fields\">Documentation</a></li><li><a href=\"/sources\">Data Sources</a></li><li><a class=\"show-loader\" href=\"/statistics\">Statistics</a></li><li><a class=\"show-loader\" href=\"/api\">API Information</a></li><li><a target=\"_blank\" href=\"http://www.wishartlab.com\">Wishart Research Group</a></li><li><a target=\"_blank\" href=\"https://tmicwishartnode.ca/\">TMIC Wishart Node</a></li></ul></li><li><a href=\"/w/contact\">Contact Us</a></li></ul><form class=\"navbar-form navbar-right\" action=\"/unearth/q\" accept-charset=\"UTF-8\" method=\"get\"><input name=\"utf8\" type=\"hidden\" value=\"&#x2713;\" /><div class=\"form-group\"><input type=\"text\" name=\"query\" id=\"query\" class=\"search-query form-control input-sm\" placeholder=\"Search\" /><input type=\"hidden\" name=\"searcher\" id=\"searcher\" value=\"compounds\" /></div><button name=\"button\" type=\"submit\" class=\"btn btn-sm btn-search\"><span class=\"glyphicon glyphicon-search\"> </span> Search</button></form></div></div></nav></header><a id=\"tmic-banner\" href=\"http://www.tmicwishartnode.ca?utm_source=t3db&amp;utm_medium=banner&amp;utm_campaign=tmic-campaign\"><div class=\"tmic-banner-content\"><div class=\"tmic-banner-logo\"></div><div class=\"tmic-banner-vertical-rule\"></div><div class=\"tmic-banner-message-list\"><div class=\"tmic-banner-message\">Quantitative metabolomics services for biomarker discovery and validation.</div><div class=\"tmic-banner-message\">Specializing in ready to use metabolomics kits.</div><div class=\"tmic-banner-message\">Your source for quantitative metabolomics technologies and bioinformatics.</div></div></div></a><main role=\"main\"><div id=\"load-screen\"><img class=\"loader\" src=\"/assets/loader-6950779377ecb0754e1ae3a56ae6cb93e152e11fe94977b80261b96da67f33f4.gif\" /></div><div class=\"wishart-browser-warning\">You are using an unsupported browser. Please upgrade your browser to  a newer version to get the best experience on  Toxin, Toxin Target Database. </div><div class=\"container-fluid alert alert-danger\"><div id=\"flash_alert\">Invalid search</div></div><div class=\"side-panel\"></div><div class=\"home-intro\"><div class=\"row\"><div class=\"col-md-8 col-xs-6 intro\"><div class=\"carousel slide\" data-ride=\"carousel\" id=\"home_carousel\"><div class=\"carousel-inner\"><div class=\"item active\"><img class=\"img-responsive\" src=\"/assets/t3db-banner-5141bac478eeb0cf371b7f314b899b8cf32452c9d3114ee21f7d433248dc58f8.png\" alt=\"T3db banner\" /></div><div class=\"item\"><img class=\"img-responsive\" src=\"/assets/exposome-banner-4f4f8210769820e224576ac56f96e14550273fdc7d6964bd4ee86496c8508cdb.png\" alt=\"Exposome banner\" /></div></div></div><div class=\"home-text\"><div class=\"empty-shape\"></div><p>The <em>Toxin and Toxin Target Database (T3DB)</em>, or, soon to be referred as, the <em>Toxic Exposome Database</em>, is a unique bioinformatics resource that combines detailed toxin data with comprehensive toxin target information. The database currently houses <a href=\"/toxins\">3,678</a> toxins described by 41,602 synonyms, including pollutants, pesticides, drugs, and food toxins, which are linked to 2,073 corresponding toxin target records. Altogether there are 42,374 toxin, toxin target associations. Each toxin record (ToxCard) contains over 90 data fields and holds information such as chemical properties and descriptors, toxicity values, molecular and cellular interactions, and medical information. This information has been extracted from over <a href=\"/sources\">18,143 sources</a>, which include <a href=\"/w/databases\">other databases</a>, government documents, books, and scientific literature. </p><p>The focus of the T3DB is on providing mechanisms of toxicity and target proteins for each toxin. This dual nature of the T3DB, in which <a href=\"/toxins\">toxin</a> and toxin target records are interactively linked in both directions, makes it unique from existing databases. It is also fully searchable and supports extensive text, sequence, chemical structure, and relational query searches. It is both modelled after and closely linked to the <a href=\"http://www.hmdb.ca\">Human Metabolome Database (HMDB)</a> and <a href=\"http://www.drugbank.ca\">DrugBank</a>. Potential applications of T3DB include toxin metabolism prediction, toxin/drug interaction prediction, and general toxin hazard awareness by the public, making it applicable to various fields. Overall, the variety and accessibility of the T3DB make it a valuable resource for both the casual user and the advanced researcher. </p></div></div><div class=\"col-md-3 col-xs-12 twitter\"><div class=\"wishart-twitter\"><a class=\"twitter-timeline\" data-widget-id=\"312668326981672960\" href=\"https://twitter.com/WishartLab\">Tweets by @WishartLab</a><script>!function(d,s,id){var js,fjs=d.getElementsByTagName(s)[0],p=/^http:/.test(d.location)?\\'http\\':\\'https\\';if(!d.getElementById(id)){js=d.createElement(s);js.id=id;js.src=p+\"://platform.twitter.com/widgets.js\";fjs.parentNode.insertBefore(js,fjs);}}(document,\"script\",\"twitter-wjs\");</script></div></div></div><div class=\"row\"><div class=\"citation-box\"><h3>Citing the T3DB:</h3><ol><li>Wishart D, Arndt D, Pon A, Sajed T, Guo AC, Djoumbou Y, Knox C, Wilson M, Liang Y, Grant J, Liu Y, Goldansaz SA, Rappaport SM. <em>T3DB: the toxic exposome database.</em> Nucleic Acids Res. 2015 Jan;43(Database issue):D928-34. <a target=\"_blank\" class=\"wishart-link-out\" href=\"http://www.ncbi.nlm.nih.gov/pubmed/25378312\">25378312 <span class=\"glyphicon glyphicon-new-window\"> </span></a></li><li>Lim E, Pon A, Djoumbou Y, Knox C, Shrivastava S, Guo AC, Neveu V, Wishart DS. <em>T3DB: a comprehensively annotated database of common toxins and their targets.</em> Nucleic Acids Res. 2010 Jan 38(Database issue):D781-6. <a target=\"_blank\" class=\"wishart-link-out\" href=\"http://www.ncbi.nlm.nih.gov/pubmed/19897546\">19897546 <span class=\"glyphicon glyphicon-new-window\"> </span></a></li></ol></div></div></div></main><footer><hr /><div class=\"wishart support\"><div class=\"logos\"><div class=\"logos-top\"><div class=\"tmic\"><a target=\"_blank\" href=\"http://www.metabolomicscentre.ca\"><img src=\"/assets/wishart/support/tmic-652d4fe4a591147c803a0ea41624fc0ae7f6e0ad7a5963610782bf0b2cdeedb9.png\" alt=\"Tmic\" /></a></div><div class=\"cfi\"><a target=\"_blank\" href=\"https://www.innovation.ca\"><img src=\"/assets/wishart/support/cfi-ce7d62b6baa37216a6694cb083d680c1cead2f76e1458cff309fbc288e7a3380.png\" alt=\"Cfi\" /></a></div></div><div class=\"logos-bottom\"><div class=\"gcanada\"><a target=\"_blank\" href=\"http://genomecanada.ca\"><img src=\"/assets/wishart/support/gcanada-1e50af33a7ba1f9e515fcf9bacfa1c3b61a53ad01bb599670712ed248e41559d.png\" alt=\"Gcanada\" /></a></div><div class=\"galberta\"><a target=\"_blank\" href=\"http://genomealberta.ca\"><img src=\"/assets/wishart/support/galberta-dd739dbba20a1e630876adc57dba80d2313c90949294797526d70856b05bcbb8.png\" alt=\"Galberta\" /></a></div><div class=\"gbc\"><a target=\"_blank\" href=\"http://genomebc.ca\"><img src=\"/assets/wishart/support/gbc-b9c3aac6a3396f4d300263fd107ce8103ae64763670322b44b259cc5bb980f08.png\" alt=\"Gbc\" /></a></div><div class=\"cihr\"><a target=\"_blank\" href=\"http://www.cihr-irsc.gc.ca\"><img src=\"/assets/wishart/support/cihr-167fe7bb99995884b0282fd5dab2bc492fb5df7106b22d3848a416e8751500d3.png\" alt=\"Cihr\" /></a></div></div></div><div class=\"funding\">This project is supported by the <a href=\"http://www.cihr-irsc.gc.ca\" target=\"_blank\">Canadian Institutes of Health Research</a>, <a href=\"https://www.innovation.ca\" target=\"_blank\">Canada Foundation for Innovation</a>, and by <a href=\"http://www.metabolomicscentre.ca/\" target=\"_blank\">The Metabolomics Innovation Centre (TMIC)</a>, a nationally-funded research and core facility that supports a wide range of cutting-edge metabolomic studies. TMIC is funded by <a href=\"http://www.genomecanada.ca\" target=\"_blank\">Genome Canada</a>, <a href=\"http://www.genomealberta.ca\" target=\"_blank\">Genome Alberta</a>, and <a href=\"http://www.genomebc.ca/\" target=\"_blank\">Genome British Columbia</a>, a not-for-profit organization that is leading Canada\\'s national genomics strategy with $900 million in funding from the federal government.</div></div><div class=\"wishart-clear\">T3DB Version <strong>2.0</strong> &mdash; <a data-no-turbolink=\"true\" href=\"/w/contact\">Contact Us</a> </div></footer></body></html>'"
      ]
     },
     "execution_count": 7,
     "metadata": {},
     "output_type": "execute_result"
    }
   ],
   "source": [
    "base = \"http://www.t3db.ca/toxins/\t1303-11-3.xml\"\"\n",
    "response = requests.get(base_url)\n",
    "response.raise_for_status()  # Ensure the request was successful\n",
    "response.text\n",
    "        "
   ]
  },
  {
   "cell_type": "code",
   "execution_count": null,
   "id": "5eaaec5c-9274-4619-83ee-187faaa162f4",
   "metadata": {},
   "outputs": [],
   "source": []
  }
 ],
 "metadata": {
  "kernelspec": {
   "display_name": "Python 3 (ipykernel)",
   "language": "python",
   "name": "python3"
  },
  "language_info": {
   "codemirror_mode": {
    "name": "ipython",
    "version": 3
   },
   "file_extension": ".py",
   "mimetype": "text/x-python",
   "name": "python",
   "nbconvert_exporter": "python",
   "pygments_lexer": "ipython3",
   "version": "3.10.12"
  }
 },
 "nbformat": 4,
 "nbformat_minor": 5
}
