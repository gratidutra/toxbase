{
 "cells": [
  {
   "cell_type": "code",
   "execution_count": 1,
   "id": "50db2222-5d68-4489-ac76-9b23a9a2d1f3",
   "metadata": {},
   "outputs": [],
   "source": [
    "import requests\n",
    "import json\n",
    "import pandas as pd"
   ]
  },
  {
   "cell_type": "markdown",
   "id": "6141a7cf-4c91-4823-a908-fdda699494cb",
   "metadata": {
    "jp-MarkdownHeadingCollapsed": true
   },
   "source": [
    "## Cas API "
   ]
  },
  {
   "cell_type": "code",
   "execution_count": 67,
   "id": "036053a6-a625-4bdc-a432-2b8af65de2de",
   "metadata": {},
   "outputs": [
    {
     "name": "stdout",
     "output_type": "stream",
     "text": [
      "Done!\n"
     ]
    },
    {
     "data": {
      "text/html": [
       "<div>\n",
       "<style scoped>\n",
       "    .dataframe tbody tr th:only-of-type {\n",
       "        vertical-align: middle;\n",
       "    }\n",
       "\n",
       "    .dataframe tbody tr th {\n",
       "        vertical-align: top;\n",
       "    }\n",
       "\n",
       "    .dataframe thead th {\n",
       "        text-align: right;\n",
       "    }\n",
       "</style>\n",
       "<table border=\"1\" class=\"dataframe\">\n",
       "  <thead>\n",
       "    <tr style=\"text-align: right;\">\n",
       "      <th></th>\n",
       "      <th>uri</th>\n",
       "      <th>rn</th>\n",
       "      <th>name</th>\n",
       "      <th>images</th>\n",
       "      <th>inchi</th>\n",
       "      <th>inchiKey</th>\n",
       "      <th>smile</th>\n",
       "      <th>canonicalSmile</th>\n",
       "      <th>molecularFormula</th>\n",
       "      <th>molecularMass</th>\n",
       "      <th>experimentalProperties</th>\n",
       "      <th>propertyCitations</th>\n",
       "      <th>synonyms</th>\n",
       "      <th>replacedRns</th>\n",
       "      <th>hasMolfile</th>\n",
       "    </tr>\n",
       "  </thead>\n",
       "  <tbody>\n",
       "    <tr>\n",
       "      <th>0</th>\n",
       "      <td>substance/pt/151213</td>\n",
       "      <td>151-21-3</td>\n",
       "      <td>Sodium dodecyl sulfate</td>\n",
       "      <td>[&lt;svg width=\"374\" viewBox=\"0 0 374 82\" style=\"...</td>\n",
       "      <td>InChI=1S/C12H26O4S.Na/c1-2-3-4-5-6-7-8-9-10-11...</td>\n",
       "      <td>InChIKey=FMWAXKQEIXRUTI-UHFFFAOYSA-N</td>\n",
       "      <td>C(CCCCCCCCCC)COS(=O)(=O)O.[Na]</td>\n",
       "      <td>[Na].O=S(=O)(O)OCCCCCCCCCCCC</td>\n",
       "      <td>C&lt;sub&gt;12&lt;/sub&gt;H&lt;sub&gt;26&lt;/sub&gt;O&lt;sub&gt;4&lt;/sub&gt;S.Na</td>\n",
       "      <td></td>\n",
       "      <td>[{'name': 'Melting Point', 'property': '204-20...</td>\n",
       "      <td>[{'docUri': '', 'sourceNumber': 1, 'source': '...</td>\n",
       "      <td>[Sulfuric acid monododecyl ester sodium salt (...</td>\n",
       "      <td>[1334-67-4, 1335-72-4, 8012-56-4, 8048-56-4, 1...</td>\n",
       "      <td>True</td>\n",
       "    </tr>\n",
       "  </tbody>\n",
       "</table>\n",
       "</div>"
      ],
      "text/plain": [
       "                   uri        rn                    name   \n",
       "0  substance/pt/151213  151-21-3  Sodium dodecyl sulfate  \\\n",
       "\n",
       "                                              images   \n",
       "0  [<svg width=\"374\" viewBox=\"0 0 374 82\" style=\"...  \\\n",
       "\n",
       "                                               inchi   \n",
       "0  InChI=1S/C12H26O4S.Na/c1-2-3-4-5-6-7-8-9-10-11...  \\\n",
       "\n",
       "                               inchiKey                           smile   \n",
       "0  InChIKey=FMWAXKQEIXRUTI-UHFFFAOYSA-N  C(CCCCCCCCCC)COS(=O)(=O)O.[Na]  \\\n",
       "\n",
       "                 canonicalSmile   \n",
       "0  [Na].O=S(=O)(O)OCCCCCCCCCCCC  \\\n",
       "\n",
       "                                molecularFormula molecularMass   \n",
       "0  C<sub>12</sub>H<sub>26</sub>O<sub>4</sub>S.Na                \\\n",
       "\n",
       "                              experimentalProperties   \n",
       "0  [{'name': 'Melting Point', 'property': '204-20...  \\\n",
       "\n",
       "                                   propertyCitations   \n",
       "0  [{'docUri': '', 'sourceNumber': 1, 'source': '...  \\\n",
       "\n",
       "                                            synonyms   \n",
       "0  [Sulfuric acid monododecyl ester sodium salt (...  \\\n",
       "\n",
       "                                         replacedRns  hasMolfile  \n",
       "0  [1334-67-4, 1335-72-4, 8012-56-4, 8048-56-4, 1...        True  "
      ]
     },
     "execution_count": 67,
     "metadata": {},
     "output_type": "execute_result"
    }
   ],
   "source": [
    "# Base URL da API\n",
    "BASE_URL = \"https://commonchemistry.cas.org/api\"\n",
    "\n",
    "# Parâmetros de busca\n",
    "cas_rn = \"151-21-3\"  # Altere para o termo desejado\n",
    "\n",
    "try:\n",
    "    # Requisição GET para o endpoint /search\n",
    "    response = requests.get(f\"{BASE_URL}/detail?cas_rn={cas_rn}\")\n",
    "    response.raise_for_status()  # Verifica se houve erro na requisição\n",
    "\n",
    "    # Resultados da busca\n",
    "    data = response.json()\n",
    "    df = pd.DataFrame([data]) \n",
    "    print('Done!')\n",
    "\n",
    "except requests.exceptions.RequestException as e:\n",
    "    print(f\"Erro ao acessar a API: {e}\")\n",
    "\n",
    "\n",
    "df.head()"
   ]
  },
  {
   "cell_type": "markdown",
   "id": "de337871-99be-4a3b-a2b7-399b98158fdb",
   "metadata": {
    "jp-MarkdownHeadingCollapsed": true
   },
   "source": [
    "## Pubchem API"
   ]
  },
  {
   "cell_type": "code",
   "execution_count": 76,
   "id": "769620ab-4679-4f67-b1c7-b7ce9bee77eb",
   "metadata": {},
   "outputs": [
    {
     "name": "stdout",
     "output_type": "stream",
     "text": [
      "Done!\n"
     ]
    }
   ],
   "source": [
    "# Base URL da API\n",
    "BASE_URL = \"https://pubchem.ncbi.nlm.nih.gov/rest/pug/\"\n",
    "\n",
    "# Parâmetros de busca\n",
    "cas_rn = \"151-21-3\"  # Altere para o termo desejado\n",
    "\n",
    "try:\n",
    "    # Requisição GET para o endpoint /search\n",
    "    response = requests.get(f\"{BASE_URL}/compound/xref/RN/{cas_rn}/description/JSON\")\n",
    "    response.raise_for_status()  # Verifica se houve erro na requisição\n",
    "\n",
    "    # Resultados da busca\n",
    "    data = response.json()\n",
    "    info_list = data[\"InformationList\"][\"Information\"]\n",
    "    pubchem_df = pd.DataFrame(results) \n",
    "    print('Done!')\n",
    "\n",
    "except requests.exceptions.RequestException as e:\n",
    "    print(f\"Erro ao acessar a API: {e}\")"
   ]
  },
  {
   "cell_type": "code",
   "execution_count": 85,
   "id": "72382e3d-0a8a-47d8-b5f7-96e12bbe8342",
   "metadata": {},
   "outputs": [
    {
     "data": {
      "text/html": [
       "<div>\n",
       "<style scoped>\n",
       "    .dataframe tbody tr th:only-of-type {\n",
       "        vertical-align: middle;\n",
       "    }\n",
       "\n",
       "    .dataframe tbody tr th {\n",
       "        vertical-align: top;\n",
       "    }\n",
       "\n",
       "    .dataframe thead th {\n",
       "        text-align: right;\n",
       "    }\n",
       "</style>\n",
       "<table border=\"1\" class=\"dataframe\">\n",
       "  <thead>\n",
       "    <tr style=\"text-align: right;\">\n",
       "      <th></th>\n",
       "      <th>CID</th>\n",
       "      <th>Title</th>\n",
       "      <th>Description</th>\n",
       "      <th>DescriptionSourceName</th>\n",
       "      <th>DescriptionURL</th>\n",
       "    </tr>\n",
       "  </thead>\n",
       "  <tbody>\n",
       "    <tr>\n",
       "      <th>0</th>\n",
       "      <td>8778</td>\n",
       "      <td>Lauryl sulfate</td>\n",
       "      <td>NaN</td>\n",
       "      <td>NaN</td>\n",
       "      <td>NaN</td>\n",
       "    </tr>\n",
       "    <tr>\n",
       "      <th>1</th>\n",
       "      <td>8778</td>\n",
       "      <td>NaN</td>\n",
       "      <td>Dodecyl hydrogen sulfate is an alkyl sulfate. ...</td>\n",
       "      <td>ChEBI</td>\n",
       "      <td>https://www.ebi.ac.uk/chebi/searchId.do?chebiI...</td>\n",
       "    </tr>\n",
       "    <tr>\n",
       "      <th>2</th>\n",
       "      <td>3423265</td>\n",
       "      <td>Sodium dodecyl sulfate</td>\n",
       "      <td>NaN</td>\n",
       "      <td>NaN</td>\n",
       "      <td>NaN</td>\n",
       "    </tr>\n",
       "    <tr>\n",
       "      <th>3</th>\n",
       "      <td>3423265</td>\n",
       "      <td>NaN</td>\n",
       "      <td>Sodium dodecyl sulfate is an organic sodium sa...</td>\n",
       "      <td>ChEBI</td>\n",
       "      <td>https://www.ebi.ac.uk/chebi/searchId.do?chebiI...</td>\n",
       "    </tr>\n",
       "    <tr>\n",
       "      <th>4</th>\n",
       "      <td>4329331</td>\n",
       "      <td>Irium</td>\n",
       "      <td>NaN</td>\n",
       "      <td>NaN</td>\n",
       "      <td>NaN</td>\n",
       "    </tr>\n",
       "    <tr>\n",
       "      <th>5</th>\n",
       "      <td>4329331</td>\n",
       "      <td>NaN</td>\n",
       "      <td>Dodecyl sulfate is an organosulfate oxoanion. ...</td>\n",
       "      <td>ChEBI</td>\n",
       "      <td>https://www.ebi.ac.uk/chebi/searchId.do?chebiI...</td>\n",
       "    </tr>\n",
       "    <tr>\n",
       "      <th>6</th>\n",
       "      <td>6330930</td>\n",
       "      <td>Dodecyl hydrogen sulfate; sodium</td>\n",
       "      <td>NaN</td>\n",
       "      <td>NaN</td>\n",
       "      <td>NaN</td>\n",
       "    </tr>\n",
       "    <tr>\n",
       "      <th>7</th>\n",
       "      <td>21909502</td>\n",
       "      <td>Dreft</td>\n",
       "      <td>NaN</td>\n",
       "      <td>NaN</td>\n",
       "      <td>NaN</td>\n",
       "    </tr>\n",
       "  </tbody>\n",
       "</table>\n",
       "</div>"
      ],
      "text/plain": [
       "        CID                             Title   \n",
       "0      8778                    Lauryl sulfate  \\\n",
       "1      8778                               NaN   \n",
       "2   3423265            Sodium dodecyl sulfate   \n",
       "3   3423265                               NaN   \n",
       "4   4329331                             Irium   \n",
       "5   4329331                               NaN   \n",
       "6   6330930  Dodecyl hydrogen sulfate; sodium   \n",
       "7  21909502                             Dreft   \n",
       "\n",
       "                                         Description DescriptionSourceName   \n",
       "0                                                NaN                   NaN  \\\n",
       "1  Dodecyl hydrogen sulfate is an alkyl sulfate. ...                 ChEBI   \n",
       "2                                                NaN                   NaN   \n",
       "3  Sodium dodecyl sulfate is an organic sodium sa...                 ChEBI   \n",
       "4                                                NaN                   NaN   \n",
       "5  Dodecyl sulfate is an organosulfate oxoanion. ...                 ChEBI   \n",
       "6                                                NaN                   NaN   \n",
       "7                                                NaN                   NaN   \n",
       "\n",
       "                                      DescriptionURL  \n",
       "0                                                NaN  \n",
       "1  https://www.ebi.ac.uk/chebi/searchId.do?chebiI...  \n",
       "2                                                NaN  \n",
       "3  https://www.ebi.ac.uk/chebi/searchId.do?chebiI...  \n",
       "4                                                NaN  \n",
       "5  https://www.ebi.ac.uk/chebi/searchId.do?chebiI...  \n",
       "6                                                NaN  \n",
       "7                                                NaN  "
      ]
     },
     "execution_count": 85,
     "metadata": {},
     "output_type": "execute_result"
    }
   ],
   "source": [
    "df = pd.DataFrame(info_list)\n",
    "df"
   ]
  },
  {
   "cell_type": "markdown",
   "id": "6f8fff11-3b3b-4cbc-8f65-b14a68f69425",
   "metadata": {},
   "source": [
    "## Pubchem with Selenium"
   ]
  },
  {
   "cell_type": "code",
   "execution_count": 62,
   "id": "ee100c27-5ff7-44bd-b87e-ca6e05c94343",
   "metadata": {},
   "outputs": [],
   "source": [
    "import chromedriver_autoinstaller\n",
    "from selenium import webdriver\n",
    "from selenium.webdriver.common.by import By\n",
    "from selenium.webdriver.common.keys import Keys\n",
    "from selenium.webdriver.support.ui import WebDriverWait\n",
    "from selenium.webdriver.support import expected_conditions as EC\n",
    "import time\n",
    "import pandas as pd"
   ]
  },
  {
   "cell_type": "markdown",
   "id": "8f9db341-c2c4-4d10-8824-4d3a10797811",
   "metadata": {},
   "source": [
    "#### SEARCH"
   ]
  },
  {
   "cell_type": "code",
   "execution_count": 63,
   "id": "996643cc-7317-4ffa-9ea5-f9427d56c206",
   "metadata": {},
   "outputs": [],
   "source": [
    "# Inicializa o WebDriver\n",
    "chromedriver_autoinstaller.install()\n",
    "driver = webdriver.Chrome()"
   ]
  },
  {
   "cell_type": "code",
   "execution_count": 64,
   "id": "4faecc04-6c01-43e4-a5aa-4187cefced86",
   "metadata": {},
   "outputs": [],
   "source": [
    "url = 'https://pubchem.ncbi.nlm.nih.gov/'\n",
    "driver.get(url)"
   ]
  },
  {
   "cell_type": "code",
   "execution_count": 65,
   "id": "ebde2ac8-5966-49ba-9901-1d4686712334",
   "metadata": {},
   "outputs": [],
   "source": [
    "time.sleep(3)\n",
    "search = driver.find_element(By.XPATH, '/html/body/div[1]/div/div/main/div[1]/div/div[2]/div/div[2]/form/div/div[1]/input')\n",
    "search.send_keys('cas-151-21-3')\n",
    "\n",
    "search.send_keys(Keys.RETURN)"
   ]
  },
  {
   "cell_type": "code",
   "execution_count": 66,
   "id": "d85dc72f-4aef-42b7-bf50-e8ec6491a869",
   "metadata": {},
   "outputs": [
    {
     "name": "stdout",
     "output_type": "stream",
     "text": [
      "Elemento clicado com sucesso!\n"
     ]
    }
   ],
   "source": [
    "# Aguardar até que o elemento esteja visível e clicável\n",
    "try:\n",
    "    # Substitua o tempo de espera conforme necessário (em segundos)\n",
    "    element = WebDriverWait(driver, 10).until(\n",
    "        EC.element_to_be_clickable((By.XPATH, '/html/body/div[1]/div/div/main/div[2]/div[1]/div/div[2]/div/div[1]/div[2]/div[1]/a/span/span'))\n",
    "    )\n",
    "    # Clica no elemento\n",
    "    element.click()\n",
    "    print(\"Elemento clicado com sucesso!\")\n",
    "except Exception as e:\n",
    "    print(f\"Erro ao localizar ou clicar no elemento: {e}\")#send.click()"
   ]
  },
  {
   "cell_type": "markdown",
   "id": "69841779-18e9-43c1-a1fa-1ea245f90f83",
   "metadata": {},
   "source": [
    "### Select field to extractor "
   ]
  },
  {
   "cell_type": "code",
   "execution_count": 67,
   "id": "5917daef-0f6b-4b9b-8277-8a343460510a",
   "metadata": {
    "scrolled": true
   },
   "outputs": [
    {
     "name": "stdout",
     "output_type": "stream",
     "text": [
      "CID: 3423265\n",
      "Fórmula Molecular: NaSO4C12H25\n",
      "C12H25O4S.Na\n",
      "C12H25NaO4S\n",
      "Sinônimos: Sodium dodecyl sulfate\n",
      "151-21-3\n",
      "SODIUM LAURYL SULFATE\n",
      "Sodium lauryl sulphate\n",
      "Sodium dodecylsulfate\n",
      "View More...\n",
      "Peso Molecular: 288.38 g/mol\n",
      "Computed by PubChem 2.2 (PubChem release 2021.10.14)\n",
      "Componentes parentes: CID 5360545 (Sodium)\n",
      "CID 8778 (Lauryl sulfate)\n",
      "Datas: Create:\n",
      "2005-09-08\n",
      "Modify:\n",
      "2025-01-18\n",
      "Descrição: Dodecyl sulfate, [sodium salt] appears as white to pale yellow paste or liquid with a mild odor. Sinks and mixes with water. (USCG, 1999)\n",
      "U.S. Coast Guard. 1999. Chemical Hazard Response Information System (CHRIS) - Hazardous Chemical Data. Commandant Instruction 16465.12C. Washington, D.C.: U.S. Government Printing Office.\n",
      "CAMEO Chemicals\n",
      "Sodium dodecyl sulfate is an organic sodium salt that is the sodium salt of dodecyl hydrogen sulfate. It has a role as a detergent and a protein denaturant. It contains a dodecyl sulfate.\n",
      "ChEBI\n",
      "Sodium Lauryl Sulfate (SLS) is an anionic surfactant naturally derived from coconut and/or palm kernel oil. It usually consists of a mixture of sodium alkyl sulfates, mainly the lauryl. SLS lowers surface tension of aqueous solutions and is used as fat emulsifier, wetting agent, and detergent in cosmetics, pharmaceuticals and toothpastes. It is also used in creams and pastes to properly disperse the ingredients and as research tool in protein biochemistry. SLS also has some microbicidal activity.\n",
      "DrugBank\n",
      "View More...\n"
     ]
    }
   ],
   "source": [
    "# Extração de informações específicas\n",
    "try:\n",
    "    cid = driver.find_element(By.XPATH, '//div[text()=\"PubChem CID\"]/following-sibling::div').text\n",
    "    molecular_formula = driver.find_element(By.XPATH, '//div[text()=\"Molecular Formula\"]/following-sibling::div').text\n",
    "    synonyms = driver.find_element(By.XPATH, '//div[text()=\"Synonyms\"]/following-sibling::div').text\n",
    "    molecular_weight = driver.find_element(By.XPATH, '//div[text()=\"Molecular Weight\"]/following-sibling::div').text\n",
    "    parent_compounds = driver.find_element(By.XPATH, '//div[text()=\"Parent Compound\"]/following-sibling::div').text\n",
    "    component_compounds = driver.find_element(By.XPATH, '//div[text()=\"Component Compounds\"]/following-sibling::div').text\n",
    "    dates = driver.find_element(By.XPATH, '//div[text()=\"Dates\"]/following-sibling::div').text\n",
    "    description = driver.find_element(By.XPATH, '//div[text()=\"Description\"]/following-sibling::div').text\n",
    "    expanded_content = driver.find_element(By.XPATH, '//*[@id=\"Title-and-Summary\"]/div/div/div/div[10]/div[2]/div/button').text\n",
    "\n",
    "# Feche o navegador\n",
    "driver.quit()"
   ]
  },
  {
   "cell_type": "markdown",
   "id": "01a65d53-d54c-4e71-878e-afda9342d44f",
   "metadata": {},
   "source": [
    "### Passando pra DF"
   ]
  },
  {
   "cell_type": "code",
   "execution_count": 75,
   "id": "85efb7ec-133b-4e7c-bc6f-ceab3195cfc7",
   "metadata": {},
   "outputs": [],
   "source": [
    "data = {\n",
    "    \"CID\": [cid],\n",
    "    \"Fórmula Molecular\": [molecular_formula],\n",
    "    \"Sinônimos\": [synonyms],\n",
    "    \"Peso Molecular\": [molecular_weight],\n",
    "    \"Componentes parentes\": [component_compounds],\n",
    "    \"Datas\": [dates],\n",
    "    \"Descrição\": [description]\n",
    "}\n",
    "\n",
    "df = df.applymap(lambda x: str(x).replace('\\\\n', ' ').replace('\\n', ' ') if isinstance(x, str) else x)\n",
    "\n",
    "# Criação de um DataFrame\n",
    "df = pd.DataFrame(data)"
   ]
  },
  {
   "cell_type": "code",
   "execution_count": 76,
   "id": "64565c4a-8e53-4b56-bdd1-c3c523fc7f6d",
   "metadata": {},
   "outputs": [
    {
     "data": {
      "text/html": [
       "<div>\n",
       "<style scoped>\n",
       "    .dataframe tbody tr th:only-of-type {\n",
       "        vertical-align: middle;\n",
       "    }\n",
       "\n",
       "    .dataframe tbody tr th {\n",
       "        vertical-align: top;\n",
       "    }\n",
       "\n",
       "    .dataframe thead th {\n",
       "        text-align: right;\n",
       "    }\n",
       "</style>\n",
       "<table border=\"1\" class=\"dataframe\">\n",
       "  <thead>\n",
       "    <tr style=\"text-align: right;\">\n",
       "      <th></th>\n",
       "      <th>CID</th>\n",
       "      <th>Fórmula Molecular</th>\n",
       "      <th>Sinônimos</th>\n",
       "      <th>Peso Molecular</th>\n",
       "      <th>Componentes parentes</th>\n",
       "      <th>Datas</th>\n",
       "      <th>Descrição</th>\n",
       "    </tr>\n",
       "  </thead>\n",
       "  <tbody>\n",
       "    <tr>\n",
       "      <th>0</th>\n",
       "      <td>3423265</td>\n",
       "      <td>NaSO4C12H25\\nC12H25O4S.Na\\nC12H25NaO4S</td>\n",
       "      <td>Sodium dodecyl sulfate\\n151-21-3\\nSODIUM LAURY...</td>\n",
       "      <td>288.38 g/mol\\nComputed by PubChem 2.2 (PubChem...</td>\n",
       "      <td>CID 5360545 (Sodium)\\nCID 8778 (Lauryl sulfate)</td>\n",
       "      <td>Create:\\n2005-09-08\\nModify:\\n2025-01-18</td>\n",
       "      <td>Dodecyl sulfate, [sodium salt] appears as whit...</td>\n",
       "    </tr>\n",
       "  </tbody>\n",
       "</table>\n",
       "</div>"
      ],
      "text/plain": [
       "       CID                       Fórmula Molecular   \n",
       "0  3423265  NaSO4C12H25\\nC12H25O4S.Na\\nC12H25NaO4S  \\\n",
       "\n",
       "                                           Sinônimos   \n",
       "0  Sodium dodecyl sulfate\\n151-21-3\\nSODIUM LAURY...  \\\n",
       "\n",
       "                                      Peso Molecular   \n",
       "0  288.38 g/mol\\nComputed by PubChem 2.2 (PubChem...  \\\n",
       "\n",
       "                              Componentes parentes   \n",
       "0  CID 5360545 (Sodium)\\nCID 8778 (Lauryl sulfate)  \\\n",
       "\n",
       "                                      Datas   \n",
       "0  Create:\\n2005-09-08\\nModify:\\n2025-01-18  \\\n",
       "\n",
       "                                           Descrição  \n",
       "0  Dodecyl sulfate, [sodium salt] appears as whit...  "
      ]
     },
     "execution_count": 76,
     "metadata": {},
     "output_type": "execute_result"
    }
   ],
   "source": [
    "df"
   ]
  },
  {
   "cell_type": "markdown",
   "id": "e420a2f8-cff5-4752-82f2-afea2ce914f9",
   "metadata": {
    "jp-MarkdownHeadingCollapsed": true
   },
   "source": [
    "## T3db"
   ]
  },
  {
   "cell_type": "code",
   "execution_count": 1,
   "id": "8f56bebb-f2e9-44a9-92ef-4dc2c44dac2c",
   "metadata": {},
   "outputs": [],
   "source": [
    "import requests\n",
    "import xml.etree.ElementTree as ET\n",
    "import pandas as pd "
   ]
  },
  {
   "cell_type": "code",
   "execution_count": 2,
   "id": "e109155e-9408-4760-9a45-5970e3fa58b6",
   "metadata": {},
   "outputs": [],
   "source": [
    "def fetch_toxin_xml(toxin_id):\n",
    "    \"\"\"\n",
    "    Fetch XML data for a given toxin ID from the T3DB database.\n",
    "    \"\"\"\n",
    "    \n",
    "    base_url = f\"http://www.t3db.ca/toxins/{toxin_id}.xml\"\n",
    "    try:\n",
    "        response = requests.get(base_url)\n",
    "        response.raise_for_status()  # Ensure the request was successful\n",
    "        return response.text\n",
    "    except requests.RequestException as e:\n",
    "        print(f\"Error fetching toxin XML for ID {toxin_id}: {e}\")\n",
    "        return None\n",
    "\n",
    "def parse_xml_to_table(xml_content):\n",
    "    \"\"\"\n",
    "    Parse XML content into a pandas DataFrame with one row of data.\n",
    "    \"\"\"\n",
    "    try:\n",
    "        root = ET.fromstring(xml_content)\n",
    "        data = {}\n",
    "\n",
    "        # Extract key-value pairs from the XML structure\n",
    "        for element in root:\n",
    "            data[element.tag] = element.text\n",
    "\n",
    "        # Convert the dictionary to a DataFrame\n",
    "        return pd.DataFrame([data])\n",
    "    except ET.ParseError as e:\n",
    "        print(f\"Error parsing XML: {e}\")\n",
    "        return pd.DataFrame()  # Return an empty DataFrame on parse failure\n"
   ]
  },
  {
   "cell_type": "code",
   "execution_count": 5,
   "id": "5b23e63c-7c2a-4ce0-9e59-44f06b9fbb27",
   "metadata": {},
   "outputs": [],
   "source": [
    "data = pd.read_csv('../data/toxins.csv')\n",
    "data = data.reset_index()\n",
    "data.head(1)\n",
    "\n",
    "data = data[['level_0', 'level_7']]\n",
    "\n",
    "data.rename(columns={'level_0': 'toxin_id', 'level_7': 'cas_number'}, inplace=True)"
   ]
  },
  {
   "cell_type": "code",
   "execution_count": 100,
   "id": "26a80507-5008-43ce-b3b9-93b680b181f0",
   "metadata": {},
   "outputs": [
    {
     "data": {
      "text/html": [
       "<div>\n",
       "<style scoped>\n",
       "    .dataframe tbody tr th:only-of-type {\n",
       "        vertical-align: middle;\n",
       "    }\n",
       "\n",
       "    .dataframe tbody tr th {\n",
       "        vertical-align: top;\n",
       "    }\n",
       "\n",
       "    .dataframe thead th {\n",
       "        text-align: right;\n",
       "    }\n",
       "</style>\n",
       "<table border=\"1\" class=\"dataframe\">\n",
       "  <thead>\n",
       "    <tr style=\"text-align: right;\">\n",
       "      <th></th>\n",
       "      <th>toxin_id</th>\n",
       "      <th>cas_number</th>\n",
       "    </tr>\n",
       "  </thead>\n",
       "  <tbody>\n",
       "    <tr>\n",
       "      <th>0</th>\n",
       "      <td>T3D0001</td>\n",
       "      <td>7440-38-2</td>\n",
       "    </tr>\n",
       "    <tr>\n",
       "      <th>1</th>\n",
       "      <td>T3D0002</td>\n",
       "      <td>7439-92-1</td>\n",
       "    </tr>\n",
       "    <tr>\n",
       "      <th>2</th>\n",
       "      <td>T3D0003</td>\n",
       "      <td>7439-97-6</td>\n",
       "    </tr>\n",
       "    <tr>\n",
       "      <th>3</th>\n",
       "      <td>T3D0004</td>\n",
       "      <td>75-01-4</td>\n",
       "    </tr>\n",
       "    <tr>\n",
       "      <th>4</th>\n",
       "      <td>T3D0006</td>\n",
       "      <td>71-43-2</td>\n",
       "    </tr>\n",
       "    <tr>\n",
       "      <th>...</th>\n",
       "      <td>...</td>\n",
       "      <td>...</td>\n",
       "    </tr>\n",
       "    <tr>\n",
       "      <th>3673</th>\n",
       "      <td>T3D5000</td>\n",
       "      <td>7664-93-9</td>\n",
       "    </tr>\n",
       "    <tr>\n",
       "      <th>3674</th>\n",
       "      <td>T3D5001</td>\n",
       "      <td>692-29-5</td>\n",
       "    </tr>\n",
       "    <tr>\n",
       "      <th>3675</th>\n",
       "      <td>T3D5002</td>\n",
       "      <td>89762-39-0</td>\n",
       "    </tr>\n",
       "    <tr>\n",
       "      <th>3676</th>\n",
       "      <td>T3D5003</td>\n",
       "      <td>10275-07-7</td>\n",
       "    </tr>\n",
       "    <tr>\n",
       "      <th>3677</th>\n",
       "      <td>T3D5004</td>\n",
       "      <td>55604-87-0</td>\n",
       "    </tr>\n",
       "  </tbody>\n",
       "</table>\n",
       "<p>3678 rows × 2 columns</p>\n",
       "</div>"
      ],
      "text/plain": [
       "     toxin_id  cas_number\n",
       "0     T3D0001   7440-38-2\n",
       "1     T3D0002   7439-92-1\n",
       "2     T3D0003   7439-97-6\n",
       "3     T3D0004     75-01-4\n",
       "4     T3D0006     71-43-2\n",
       "...       ...         ...\n",
       "3673  T3D5000   7664-93-9\n",
       "3674  T3D5001    692-29-5\n",
       "3675  T3D5002  89762-39-0\n",
       "3676  T3D5003  10275-07-7\n",
       "3677  T3D5004  55604-87-0\n",
       "\n",
       "[3678 rows x 2 columns]"
      ]
     },
     "execution_count": 100,
     "metadata": {},
     "output_type": "execute_result"
    }
   ],
   "source": [
    "data"
   ]
  },
  {
   "cell_type": "code",
   "execution_count": 112,
   "id": "e7c92e6f-ea5f-421e-9412-d0b852ba5023",
   "metadata": {},
   "outputs": [],
   "source": [
    "def t3db_extractor(cas_numbers:str, delay=1):\n",
    "    \"\"\"\n",
    "    Process a list of toxin IDs and fetch their data with a delay between requests.\n",
    "    \n",
    "    Args:\n",
    "        cas_number (list): List of toxin IDs to process.\n",
    "        delay (int or float): Time in seconds to wait between requests.\n",
    "    \n",
    "    Returns:\n",
    "        pd.DataFrame: A DataFrame with the combined toxin data.\n",
    "    \"\"\"\n",
    "    all_toxins = []  # Lista para armazenar os resultados\n",
    "\n",
    "    # Carrega os dados do CSV\n",
    "    toxins_data = pd.read_csv('../data/toxins_id.csv')\n",
    "\n",
    "    # Converte 'cas_number' para string (para garantir que a comparação funcione corretamente)\n",
    "    toxins_data['cas_number'] = toxins_data['cas_number'].astype(str)\n",
    "\n",
    "    # Itera sobre a lista de cas_numbers\n",
    "    for cas_number in cas_numbers:\n",
    "        toxin_id_ = toxins_data.query(f\"cas_number == '{cas_number}'\")[['toxin_id']]\n",
    "        print(toxin_id_.loc[0, 'toxin_id']) \n",
    "        xml_content = fetch_toxin_xml(toxin_id_.loc[0, 'toxin_id'])\n",
    "        if xml_content:  # Check if valid XML was fetched\n",
    "            df_toxin = parse_xml_to_table(xml_content)\n",
    "            all_toxins.append(df_toxin)\n",
    "        \n",
    "        # Delay between requests\n",
    "        #time.sleep(delay)\n",
    "\n",
    "    # Concatenate all DataFrames, if available\n",
    "    if all_toxins:\n",
    "        return pd.concat(all_toxins, ignore_index=True)\n",
    "    else:\n",
    "        return pd.DataFrame()  # Return an em"
   ]
  },
  {
   "cell_type": "code",
   "execution_count": 115,
   "id": "12c15d47-1493-4849-a757-9fea00bcb03a",
   "metadata": {},
   "outputs": [
    {
     "name": "stdout",
     "output_type": "stream",
     "text": [
      "T3D0001\n"
     ]
    }
   ],
   "source": [
    "teste = t3db_extractor(['7440-38-2'])"
   ]
  },
  {
   "cell_type": "code",
   "execution_count": 111,
   "id": "78c93312-ff80-4734-8080-b07d18235ddd",
   "metadata": {},
   "outputs": [],
   "source": [
    "xml_content = fetch_toxin_xml('T3D0003')"
   ]
  },
  {
   "cell_type": "markdown",
   "id": "2edc0ddc-9021-4a59-86cf-df3d52f6f241",
   "metadata": {},
   "source": [
    "## ECHA"
   ]
  },
  {
   "cell_type": "code",
   "execution_count": 19,
   "id": "f66af0ab-5ece-4e7d-a1e1-78880d486290",
   "metadata": {},
   "outputs": [
    {
     "name": "stdout",
     "output_type": "stream",
     "text": [
      "Elemento clicado com sucesso!\n"
     ]
    }
   ],
   "source": [
    "import time\n",
    "from selenium import webdriver\n",
    "from selenium.webdriver.common.by import By\n",
    "from selenium.webdriver.chrome.service import Service\n",
    "from selenium.webdriver.support.ui import WebDriverWait\n",
    "from selenium.webdriver.support import expected_conditions as EC\n",
    "from selenium.webdriver.common.keys import Keys\n",
    "from selenium.webdriver.common.action_chains import ActionChains\n",
    "import chromedriver_autoinstaller\n",
    "\n",
    "# Instalar e configurar o driver automaticamente\n",
    "chromedriver_autoinstaller.install()\n",
    "driver = webdriver.Chrome()\n",
    "\n",
    "\n",
    "# Acessar a página\n",
    "driver.get(\"https://echa.europa.eu/pt/information-on-chemicals\")\n",
    "\n",
    "# Configurar WebDriverWait\n",
    "wait = WebDriverWait(driver, 10)\n",
    "actions = ActionChains(driver)\n",
    "\n",
    "# Aguarde o botão de aceitar cookies estar clicável\n",
    "cookie_button = wait.until(EC.element_to_be_clickable((By.XPATH, '//*[@id=\"cookie-consent-banner\"]/div/div/div[2]/a[1]')))\n",
    "actions.move_to_element(cookie_button).click().perform()\n",
    "\n",
    "time.sleep(2)\n",
    "# Localizar o checkbox pelo id\n",
    "checkbox = wait.until(EC.presence_of_element_located((By.XPATH, '//*[@id=\"_disssimplesearchhomepage_WAR_disssearchportlet_fm\"]/div[2]/label/span')))\n",
    "actions.move_to_element(checkbox).click().perform()\n",
    "\n",
    "time.sleep(2)\n",
    "\n",
    "time.sleep(3)\n",
    "search = driver.find_element(By.XPATH, '//*[@id=\"autocompleteKeywordInput\"]')\n",
    "search.send_keys('151-21-3')\n",
    "\n",
    "search.send_keys(Keys.RETURN)\n",
    "\n",
    "# Aguardar até que o elemento esteja visível e clicável\n",
    "try:\n",
    "    # Substitua o tempo de espera conforme necessário (em segundos)\n",
    "    element = WebDriverWait(driver, 10).until(\n",
    "        EC.element_to_be_clickable((By.XPATH, '//*[@id=\"_disssimplesearch_WAR_disssearchportlet_rmlSearchResultVOsSearchContainerSearchContainer\"]/table/tbody/tr[1]/td[1]/a'))\n",
    "    )\n",
    "    # Clica no elemento\n",
    "    element.click()\n",
    "    print(\"Elemento clicado com sucesso!\")\n",
    "except Exception as e:\n",
    "    print(f\"Erro ao localizar ou clicar no elemento: {e}\")#send.click()\n",
    "\n",
    "\n",
    "time.sleep(5)\n",
    "    # Extração de informações específicas\n",
    "try:\n",
    "    ec = driver.find_element(By.XPATH, '//*[@id=\"infocardContainer\"]/div/div[1]/div/div[1]/div/div[1]/div/div/div/p[1]').text\n",
    "    cas = driver.find_element(By.XPATH, '//*[@id=\"infocardContainer\"]/div/div[1]/div/div[1]/div/div[1]/div/div/div/p[3]').text\n",
    "    molecular_formula = driver.find_element(By.XPATH, '//*[@id=\"infocardContainer\"]/div/div[1]/div/div[1]/div/div[1]/div/div/div/p[3]').text\n",
    "    haz_classification_laballing = driver.find_element(By.XPATH, '//*[@id=\"infocardContainer\"]/div/div[1]/div/div[1]/div/div[2]/div/div/div/p').text\n",
    "    about_1 = driver.find_element(By.XPATH, '//*[@id=\"aboutSubstanceParagraphWrapper\"]/p[1]').text\n",
    "    about_2 = driver.find_element(By.XPATH, '//*[@id=\"aboutSubstanceParagraphWrapper\"]/p[2]').text\n",
    "    consumer_user = driver.find_element(By.XPATH, '//*[@id=\"aboutSubstanceParagraphWrapper\"]/p[3]').text\n",
    "    article_services = driver.find_element(By.XPATH, '//div[text()=\"Description\"]/following-sibling::div').text\n",
    "    \n",
    "# Feche o navegador\n",
    "driver.quit()\n",
    "#//*[@id=\"_disssimplesearch_WAR_disssearchportlet_rmlSearchResultVOsSearchContainerSearchContainer\"]/table/tbody/tr[1]/td[1]/a"
   ]
  },
  {
   "cell_type": "code",
   "execution_count": null,
   "id": "68c79c29-2130-4813-9831-5ca088dd2412",
   "metadata": {},
   "outputs": [],
   "source": []
  }
 ],
 "metadata": {
  "kernelspec": {
   "display_name": "Python 3 (ipykernel)",
   "language": "python",
   "name": "python3"
  },
  "language_info": {
   "codemirror_mode": {
    "name": "ipython",
    "version": 3
   },
   "file_extension": ".py",
   "mimetype": "text/x-python",
   "name": "python",
   "nbconvert_exporter": "python",
   "pygments_lexer": "ipython3",
   "version": "3.10.9"
  }
 },
 "nbformat": 4,
 "nbformat_minor": 5
}
